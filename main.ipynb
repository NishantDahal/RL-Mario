{
 "cells": [
  {
   "cell_type": "markdown",
   "metadata": {},
   "source": [
    "# Set up"
   ]
  },
  {
   "cell_type": "code",
   "execution_count": 1,
   "metadata": {},
   "outputs": [],
   "source": [
    "import gym_super_mario_bros # Importing the Super Mario Bros environment\n",
    "from nes_py.wrappers import JoypadSpace # Importing joypad wrapper\n",
    "from gym_super_mario_bros.actions import SIMPLE_MOVEMENT # Importing simplified controls\n",
    "import os\n",
    "import cv2\n",
    "from PIL import Image\n"
   ]
  },
  {
   "cell_type": "code",
   "execution_count": 2,
   "metadata": {},
   "outputs": [],
   "source": [
    "curr = os.getcwd()\n",
    "os.chdir('/teamspace/studios/this_studio/RL-Mario')\n",
    "from save_frame import save_images, save_video"
   ]
  },
  {
   "cell_type": "code",
   "execution_count": 3,
   "metadata": {},
   "outputs": [
    {
     "data": {
      "text/plain": [
       "[['NOOP'],\n",
       " ['right'],\n",
       " ['right', 'A'],\n",
       " ['right', 'B'],\n",
       " ['right', 'A', 'B'],\n",
       " ['A'],\n",
       " ['left']]"
      ]
     },
     "execution_count": 3,
     "metadata": {},
     "output_type": "execute_result"
    }
   ],
   "source": [
    "SIMPLE_MOVEMENT"
   ]
  },
  {
   "cell_type": "code",
   "execution_count": 4,
   "metadata": {},
   "outputs": [
    {
     "name": "stderr",
     "output_type": "stream",
     "text": [
      "/home/zeus/miniconda3/envs/cloudspace/lib/python3.10/site-packages/gym/envs/registration.py:555: UserWarning: \u001b[33mWARN: The environment SuperMarioBros-v0 is out of date. You should consider upgrading to version `v3`.\u001b[0m\n",
      "  logger.warn(\n",
      "/home/zeus/miniconda3/envs/cloudspace/lib/python3.10/site-packages/gym/envs/registration.py:627: UserWarning: \u001b[33mWARN: The environment creator metadata doesn't include `render_modes`, contains: ['render.modes', 'video.frames_per_second']\u001b[0m\n",
      "  logger.warn(\n"
     ]
    },
    {
     "data": {
      "text/plain": [
       "256"
      ]
     },
     "execution_count": 4,
     "metadata": {},
     "output_type": "execute_result"
    }
   ],
   "source": [
    "\"\"\"\n",
    "    1. Creating the environment\n",
    "    2. Ensuring that the environment is compatible with the OpenAI Gym API\n",
    "    3. Setting the rendering mode to numpy array form\n",
    "\"\"\"\n",
    "env = gym_super_mario_bros.make('SuperMarioBros-v0', apply_api_compatibility=True, render_mode='rgb_array') \n",
    "env.action_space.n # Checking the number of actions"
   ]
  },
  {
   "cell_type": "code",
   "execution_count": 5,
   "metadata": {},
   "outputs": [
    {
     "data": {
      "text/plain": [
       "7"
      ]
     },
     "execution_count": 5,
     "metadata": {},
     "output_type": "execute_result"
    }
   ],
   "source": [
    "env = JoypadSpace(env, SIMPLE_MOVEMENT) # Applying the wrapper\n",
    "env.action_space.n # Simplified action space"
   ]
  },
  {
   "cell_type": "code",
   "execution_count": 6,
   "metadata": {},
   "outputs": [
    {
     "data": {
      "text/plain": [
       "(240, 256, 3)"
      ]
     },
     "execution_count": 6,
     "metadata": {},
     "output_type": "execute_result"
    }
   ],
   "source": [
    "env.observation_space.shape # Checking the shape of the observation space (height, width, channels)"
   ]
  },
  {
   "cell_type": "code",
   "execution_count": 7,
   "metadata": {},
   "outputs": [
    {
     "data": {
      "text/plain": [
       "5"
      ]
     },
     "execution_count": 7,
     "metadata": {},
     "output_type": "execute_result"
    }
   ],
   "source": [
    "env.action_space.sample() # Random action"
   ]
  },
  {
   "cell_type": "code",
   "execution_count": 8,
   "metadata": {},
   "outputs": [
    {
     "name": "stderr",
     "output_type": "stream",
     "text": [
      "/home/zeus/miniconda3/envs/cloudspace/lib/python3.10/site-packages/gym/utils/passive_env_checker.py:233: DeprecationWarning: `np.bool8` is a deprecated alias for `np.bool_`.  (Deprecated NumPy 1.24)\n",
      "  if not isinstance(terminated, (bool, np.bool8)):\n"
     ]
    },
    {
     "data": {
      "text/plain": [
       "(array([[[104, 136, 252],\n",
       "         [104, 136, 252],\n",
       "         [104, 136, 252],\n",
       "         ...,\n",
       "         [104, 136, 252],\n",
       "         [104, 136, 252],\n",
       "         [104, 136, 252]],\n",
       " \n",
       "        [[104, 136, 252],\n",
       "         [104, 136, 252],\n",
       "         [104, 136, 252],\n",
       "         ...,\n",
       "         [104, 136, 252],\n",
       "         [104, 136, 252],\n",
       "         [104, 136, 252]],\n",
       " \n",
       "        [[104, 136, 252],\n",
       "         [104, 136, 252],\n",
       "         [104, 136, 252],\n",
       "         ...,\n",
       "         [104, 136, 252],\n",
       "         [104, 136, 252],\n",
       "         [104, 136, 252]],\n",
       " \n",
       "        ...,\n",
       " \n",
       "        [[240, 208, 176],\n",
       "         [228,  92,  16],\n",
       "         [228,  92,  16],\n",
       "         ...,\n",
       "         [228,  92,  16],\n",
       "         [228,  92,  16],\n",
       "         [  0,   0,   0]],\n",
       " \n",
       "        [[240, 208, 176],\n",
       "         [228,  92,  16],\n",
       "         [228,  92,  16],\n",
       "         ...,\n",
       "         [228,  92,  16],\n",
       "         [  0,   0,   0],\n",
       "         [  0,   0,   0]],\n",
       " \n",
       "        [[228,  92,  16],\n",
       "         [  0,   0,   0],\n",
       "         [  0,   0,   0],\n",
       "         ...,\n",
       "         [  0,   0,   0],\n",
       "         [  0,   0,   0],\n",
       "         [228,  92,  16]]], dtype=uint8),\n",
       " 0.0,\n",
       " False,\n",
       " False,\n",
       " {'coins': 0,\n",
       "  'flag_get': False,\n",
       "  'life': 2,\n",
       "  'score': 0,\n",
       "  'stage': 1,\n",
       "  'status': 'small',\n",
       "  'time': 400,\n",
       "  'world': 1,\n",
       "  'x_pos': 40,\n",
       "  'x_pos_screen': 40,\n",
       "  'y_pos': 79})"
      ]
     },
     "execution_count": 8,
     "metadata": {},
     "output_type": "execute_result"
    }
   ],
   "source": [
    "env.reset()\n",
    "env.step(env.action_space.sample()) # Taking a random action\n",
    "\n",
    "# Ouput format : (observation, reward, done, info, extra_info)"
   ]
  },
  {
   "cell_type": "code",
   "execution_count": 9,
   "metadata": {},
   "outputs": [],
   "source": [
    "os.makedirs('videos', exist_ok=True) # Creating a directory to store the videos"
   ]
  },
  {
   "cell_type": "code",
   "execution_count": 10,
   "metadata": {},
   "outputs": [
    {
     "name": "stderr",
     "output_type": "stream",
     "text": [
      "/home/zeus/miniconda3/envs/cloudspace/lib/python3.10/site-packages/gym/utils/passive_env_checker.py:272: UserWarning: \u001b[33mWARN: No render modes was declared in the environment (env.metadata['render_modes'] is None or not defined), you may have trouble when calling `.render()`.\u001b[0m\n",
      "  logger.warn(\n"
     ]
    },
    {
     "name": "stderr",
     "output_type": "stream",
     "text": [
      "/home/zeus/miniconda3/envs/cloudspace/lib/python3.10/site-packages/gym_super_mario_bros/smb_env.py:148: RuntimeWarning: overflow encountered in scalar subtract\n",
      "  return (self.ram[0x86] - self.ram[0x071c]) % 256\n"
     ]
    }
   ],
   "source": [
    "done = True # Checking if the game is done\n",
    "for step in range(10000): # Running through the frames\n",
    "    if done:\n",
    "        env.reset() # Resetting the environment\n",
    "    state, reward, done, info, _ = env.step(env.action_space.sample())  # Taking a random action\n",
    "    frame = env.render() # Rendering the environment\n",
    "    save_images(frame, step) # Saving the images\n",
    "    \n",
    "env.close() # Closing the environment"
   ]
  },
  {
   "cell_type": "code",
   "execution_count": null,
   "metadata": {},
   "outputs": [],
   "source": [
    "save_video('videos', 'random_action.mp4') # Creating the video"
   ]
  },
  {
   "cell_type": "code",
   "execution_count": null,
   "metadata": {},
   "outputs": [],
   "source": []
  },
  {
   "cell_type": "code",
   "execution_count": null,
   "metadata": {},
   "outputs": [],
   "source": []
  },
  {
   "cell_type": "code",
   "execution_count": null,
   "metadata": {},
   "outputs": [],
   "source": []
  },
  {
   "cell_type": "code",
   "execution_count": null,
   "metadata": {},
   "outputs": [],
   "source": []
  },
  {
   "cell_type": "code",
   "execution_count": null,
   "metadata": {},
   "outputs": [],
   "source": []
  }
 ],
 "metadata": {
  "kernelspec": {
   "display_name": "cloudspace",
   "language": "python",
   "name": "python3"
  },
  "language_info": {
   "codemirror_mode": {
    "name": "ipython",
    "version": 3
   },
   "file_extension": ".py",
   "mimetype": "text/x-python",
   "name": "python",
   "nbconvert_exporter": "python",
   "pygments_lexer": "ipython3",
   "version": "3.10.10"
  }
 },
 "nbformat": 4,
 "nbformat_minor": 2
}
